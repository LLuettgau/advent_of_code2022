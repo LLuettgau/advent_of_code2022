{
 "cells": [
  {
   "cell_type": "markdown",
   "id": "1301cbce",
   "metadata": {},
   "source": [
    "**AoC2022 - Day 3**"
   ]
  },
  {
   "cell_type": "code",
   "execution_count": 134,
   "id": "508b6836",
   "metadata": {},
   "outputs": [],
   "source": [
    "#part 1: #Find the item type that appears in both compartments of each rucksack. \n",
    "#What is the sum of the priorities of those item types?\n",
    "\n",
    "#part 2: Find the item type that corresponds to the badges of each three-Elf group. \n",
    "#What is the sum of the priorities of those item types?\n",
    "\n",
    "def get_keys_from_value(d, val):\n",
    "    return [k for k, v in d.items() if v == val]\n",
    "\n",
    "fname = 'Day3.txt'\n",
    "priors_lower = {1:'a', 2:'b', 3:'c', 4:'d', 5:'e', 6:'f', 7:'g', 8:'h', 9:'i', 10:'j', 11:'k', 12:'l', 13:'m', 14:'n', 15:'o', 16:'p', 17:'q', 18:'r', 19:'s', 20:'t', 21:'u', 22:'v', 23:'w', 24:'x', 25:'y', 26:'z'}         \n",
    "priors_upper = {27:'A', 28:'B', 29:'C', 30:'D', 31:'E', 32:'F', 33:'G', 34:'H', 35:'I', 36:'J', 37:'K', 38:'L', 39:'M', 40:'N', 41:'O', 42:'P', 43:'Q', 44:'R', 45:'S', 46:'T', 47:'U', 48:'V', 49:'W', 50:'X', 51:'Y', 52:'Z'}         \n",
    "\n",
    "def find_prios(part):\n",
    "    with open(fname) as f:\n",
    "           data = f.read().splitlines()\n",
    "    \n",
    "    total_sum = 0\n",
    "\n",
    "    if part == 1:\n",
    "        for line in data:\n",
    "            string1, string2 = line[:len(line)//2], line[len(line)//2:]\n",
    "\n",
    "            #find overlapping elements\n",
    "            common_character = ''.join(set(string1).intersection(string2))\n",
    "\n",
    "            #compute priority + sum up\n",
    "            if common_character in priors_lower.values(): \n",
    "                key = get_keys_from_value(priors_lower, common_character)\n",
    "                total_sum += key[0]\n",
    "            else: \n",
    "                key = get_keys_from_value(priors_upper, common_character)\n",
    "                total_sum += key[0]\n",
    "    else:       \n",
    "                \n",
    "        for line in range(0, len(data), 3):\n",
    "            current_triplet = data[line:line+3]\n",
    "            \n",
    "            #find overlapping elements between three lines\n",
    "            common_character1 = ''.join(set(current_triplet[0]).intersection(current_triplet[1]))\n",
    "            common_character_all = ''.join(set(common_character1).intersection(current_triplet[2]))\n",
    "\n",
    "            #compute priority + sum up\n",
    "            if common_character_all in priors_lower.values(): \n",
    "                key = get_keys_from_value(priors_lower, common_character_all)\n",
    "                total_sum += key[0]\n",
    "            else: \n",
    "                key = get_keys_from_value(priors_upper, common_character_all)\n",
    "                total_sum += key[0]        \n",
    "                \n",
    "    print(total_sum)         "
   ]
  },
  {
   "cell_type": "code",
   "execution_count": 135,
   "id": "8e7a78fb",
   "metadata": {},
   "outputs": [
    {
     "name": "stdout",
     "output_type": "stream",
     "text": [
      "8053\n"
     ]
    }
   ],
   "source": [
    "find_prios(1)"
   ]
  },
  {
   "cell_type": "code",
   "execution_count": 136,
   "id": "7e9e673e",
   "metadata": {},
   "outputs": [
    {
     "name": "stdout",
     "output_type": "stream",
     "text": [
      "2425\n"
     ]
    }
   ],
   "source": [
    "find_prios(2)"
   ]
  },
  {
   "cell_type": "code",
   "execution_count": null,
   "id": "645a1dad",
   "metadata": {},
   "outputs": [],
   "source": []
  }
 ],
 "metadata": {
  "kernelspec": {
   "display_name": "Python 3 (ipykernel)",
   "language": "python",
   "name": "python3"
  },
  "language_info": {
   "codemirror_mode": {
    "name": "ipython",
    "version": 3
   },
   "file_extension": ".py",
   "mimetype": "text/x-python",
   "name": "python",
   "nbconvert_exporter": "python",
   "pygments_lexer": "ipython3",
   "version": "3.9.12"
  }
 },
 "nbformat": 4,
 "nbformat_minor": 5
}
