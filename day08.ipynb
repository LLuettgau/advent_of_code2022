{
 "cells": [
  {
   "cell_type": "markdown",
   "id": "1301cbce",
   "metadata": {},
   "source": [
    "**AoC2022 - Day 8** - with help from reddit solutions \n"
   ]
  },
  {
   "cell_type": "code",
   "execution_count": 2,
   "id": "4b8133a7-ecea-4c8d-b03a-72c2f910ad1e",
   "metadata": {},
   "outputs": [],
   "source": [
    "import numpy as np"
   ]
  },
  {
   "cell_type": "code",
   "execution_count": 5,
   "id": "10693113-8968-440e-9936-56408b2b0c9b",
   "metadata": {},
   "outputs": [
    {
     "data": {
      "text/plain": [
       "1851"
      ]
     },
     "execution_count": 5,
     "metadata": {},
     "output_type": "execute_result"
    }
   ],
   "source": [
    "#part 1: Consider your map; how many trees are visible from outside the grid?\n",
    "tree_map = np.genfromtxt(\"Day8.txt\", delimiter=1)\n",
    "\n",
    "all_tree_heights = []\n",
    "for i in range(4):\n",
    "    #rotate input map by 90 degrees \n",
    "    rota_tree_map = np.rot90(tree_map, i)\n",
    "    #compute rolling maximum value along this axis\n",
    "    tree_heights = np.roll(np.maximum.accumulate(rota_tree_map), 1, axis=0)\n",
    "    tree_heights[0] = -1\n",
    "    all_tree_heights.append(np.rot90(tree_heights, 4-i))\n",
    "    \n",
    "tree_heights = np.min(all_tree_heights, axis=0)\n",
    "(tree_map > tree_heights).sum()   \n"
   ]
  },
  {
   "cell_type": "code",
   "execution_count": 9,
   "id": "054cc9d3-c373-4bb3-b92a-e5a0cd0081e9",
   "metadata": {},
   "outputs": [
    {
     "data": {
      "text/plain": [
       "574080"
      ]
     },
     "execution_count": 9,
     "metadata": {},
     "output_type": "execute_result"
    }
   ],
   "source": [
    "#part 2\n",
    "def scenic_score(data):\n",
    "    def one_row(i):\n",
    "        \"\"\"How many trees can be seen looking down from row i\"\"\"\n",
    "        current = data.copy()\n",
    "        current[i] = current[i] - 1\n",
    "        tree_heights = np.maximum.accumulate(np.roll(current, -i, axis=0)) <= current[i]\n",
    "        tree_heights[-i -1] = True\n",
    "        return tree_heights[1:len(data) -i].sum(axis=0)\n",
    "    return np.array([one_row(i) for i in range(len(data))])\n",
    "\n",
    "scenic_scores = []\n",
    "for i in range(4):\n",
    "    scenic_scores.append(np.rot90(scenic_score(np.rot90(tree_map, i)), 4-i))\n",
    "np.product(scenic_scores, axis = 0).max()"
   ]
  },
  {
   "cell_type": "code",
   "execution_count": null,
   "id": "726c315a-39c1-4305-b2cd-06a06451309b",
   "metadata": {},
   "outputs": [],
   "source": []
  }
 ],
 "metadata": {
  "kernelspec": {
   "display_name": "Python 3 (ipykernel)",
   "language": "python",
   "name": "python3"
  },
  "language_info": {
   "codemirror_mode": {
    "name": "ipython",
    "version": 3
   },
   "file_extension": ".py",
   "mimetype": "text/x-python",
   "name": "python",
   "nbconvert_exporter": "python",
   "pygments_lexer": "ipython3",
   "version": "3.9.12"
  }
 },
 "nbformat": 4,
 "nbformat_minor": 5
}
