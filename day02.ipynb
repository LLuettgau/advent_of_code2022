{
 "cells": [
  {
   "cell_type": "markdown",
   "id": "1301cbce",
   "metadata": {},
   "source": [
    "**AoC2022 - Day 2** - not pretty, but does the job"
   ]
  },
  {
   "cell_type": "code",
   "execution_count": 1,
   "id": "508b6836",
   "metadata": {},
   "outputs": [],
   "source": [
    "#part 1: compute total score if everything goes exactly according to strategy guide\n",
    "\n",
    "#Your total score is the sum of your scores for each round. \n",
    "#The score for a single round is the score for the shape you selected (1 for Rock, 2 for Paper, and 3 for Scissors) \n",
    "#plus the score for the outcome of the round (0 if you lost, 3 if the round was a draw, and 6 if you won).\n",
    "\n",
    "#\"The first column is what your opponent is going to play: \n",
    "#A for Rock, B for Paper, and C for Scissors. \n",
    "#The second column, you reason, must be what you should play in response: \n",
    "#X for Rock, Y for Paper, and Z for Scissors. \n",
    "\n",
    "#part 2: What would the total score be if everything goes exactly according to the updated strategy guide?\n",
    "#X means you need to lose, Y means you need to end the round in a draw, and Z means you need to win\n",
    "#A for Rock, B for Paper, and C for Scissors. \n",
    "\n",
    "def elf_rps(part):\n",
    "    with open(fname) as f:\n",
    "            data = f.read().splitlines()\n",
    "            \n",
    "    total_score = 0\n",
    "    \n",
    "    for line in data:\n",
    "        if part == 1:\n",
    "            if line[0] == 'A' and line[2] == 'Y' or line[0] == 'B' and line[2] == 'Z' or line[0] == 'C' and line[2] == 'X':\n",
    "                total_score += 6\n",
    "            elif line[0] == 'A' and line[2] == 'X' or line[0] == 'B' and line[2] == 'Y' or line[0] == 'C' and line[2] == 'Z':\n",
    "                  total_score += 3\n",
    "            elif line[0] == 'A' and line[2] == 'Z' or line[0] == 'B' and line[2] == 'X' or line[0] == 'C' and line[2] == 'Y':\n",
    "                  total_score += 0\n",
    "\n",
    "            if line[2] == 'X':\n",
    "                  total_score += 1\n",
    "            elif line[2] == 'Y':\n",
    "                  total_score += 2\n",
    "            elif line[2] == 'Z':\n",
    "                  total_score += 3\n",
    "    \n",
    "        else:\n",
    "            \n",
    "            if line[2] == 'X':\n",
    "                total_score += 0\n",
    "            elif line[2] == 'Y':\n",
    "                total_score += 3\n",
    "            elif line[2] == 'Z':\n",
    "                total_score += 6\n",
    "                \n",
    "            if line[0] == 'A' and line[2] == 'X':\n",
    "                total_score += 3\n",
    "            elif line[0] == 'A' and line[2] == 'Y':\n",
    "                total_score += 1\n",
    "            elif line[0] == 'A' and line[2] == 'Z':\n",
    "                total_score += 2\n",
    "            elif line[0] == 'B' and line[2] == 'X':\n",
    "                total_score += 1\n",
    "            elif line[0] == 'B' and line[2] == 'Y':\n",
    "                total_score += 2\n",
    "            elif line[0] == 'B' and line[2] == 'Z':\n",
    "                total_score += 3   \n",
    "            elif line[0] == 'C' and line[2] == 'X':\n",
    "                total_score += 2\n",
    "            elif line[0] == 'C' and line[2] == 'Y':\n",
    "                total_score += 3\n",
    "            elif line[0] == 'C' and line[2] == 'Z':\n",
    "                total_score += 1       \n",
    "\n",
    "    print(total_score)"
   ]
  },
  {
   "cell_type": "code",
   "execution_count": 2,
   "id": "8e7a78fb",
   "metadata": {},
   "outputs": [
    {
     "name": "stdout",
     "output_type": "stream",
     "text": [
      "11841\n"
     ]
    }
   ],
   "source": [
    "fname = 'Day2.txt'\n",
    "\n",
    "elf_rps(1)"
   ]
  },
  {
   "cell_type": "code",
   "execution_count": 3,
   "id": "7e9e673e",
   "metadata": {},
   "outputs": [
    {
     "name": "stdout",
     "output_type": "stream",
     "text": [
      "13022\n"
     ]
    }
   ],
   "source": [
    "fname = 'Day2.txt'\n",
    "\n",
    "elf_rps(2)"
   ]
  },
  {
   "cell_type": "code",
   "execution_count": null,
   "id": "d0449a56",
   "metadata": {},
   "outputs": [],
   "source": []
  }
 ],
 "metadata": {
  "kernelspec": {
   "display_name": "Python 3 (ipykernel)",
   "language": "python",
   "name": "python3"
  },
  "language_info": {
   "codemirror_mode": {
    "name": "ipython",
    "version": 3
   },
   "file_extension": ".py",
   "mimetype": "text/x-python",
   "name": "python",
   "nbconvert_exporter": "python",
   "pygments_lexer": "ipython3",
   "version": "3.9.12"
  }
 },
 "nbformat": 4,
 "nbformat_minor": 5
}
