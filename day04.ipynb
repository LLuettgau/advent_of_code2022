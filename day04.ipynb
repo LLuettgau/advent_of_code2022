{
 "cells": [
  {
   "cell_type": "markdown",
   "id": "1301cbce",
   "metadata": {},
   "source": [
    "**AoC2022 - Day 4**"
   ]
  },
  {
   "cell_type": "code",
   "execution_count": 111,
   "id": "508b6836",
   "metadata": {},
   "outputs": [
    {
     "name": "stdout",
     "output_type": "stream",
     "text": [
      "562\n"
     ]
    }
   ],
   "source": [
    "#part 1: In how many assignment pairs does one range fully contain the other?\n",
    "\n",
    "fname = 'Day4.txt'\n",
    "with open(fname) as f:\n",
    "    data = f.readlines()\n",
    "    \n",
    "    range1 = []\n",
    "    range2 = []\n",
    "    total_count = 0\n",
    "    \n",
    "    for line in data:\n",
    "        \n",
    "        new_line = line.strip().split(',')\n",
    "        new_line_split = [new_line[0].split('-'), new_line[1].split('-')]\n",
    "        \n",
    "        range1 = range(int(new_line_split[0][0]),int(new_line_split[0][1])+1)\n",
    "        range2 = range(int(new_line_split[1][0]),int(new_line_split[1][1])+1)\n",
    "      \n",
    "        if set(range1).issubset(range2) or set(range2).issubset(range1):\n",
    "            total_count += 1\n",
    "            \n",
    "        range1 = []\n",
    "        range2 = []\n",
    "        \n",
    "    print(total_count)\n",
    "        "
   ]
  },
  {
   "cell_type": "code",
   "execution_count": 119,
   "id": "8e7a78fb",
   "metadata": {},
   "outputs": [
    {
     "name": "stdout",
     "output_type": "stream",
     "text": [
      "924\n"
     ]
    }
   ],
   "source": [
    "#part 2: In how many assignment pairs do the ranges overlap?\n",
    "\n",
    "fname = 'Day4.txt'\n",
    "with open(fname) as f:\n",
    "    data = f.readlines()\n",
    "    \n",
    "    range1 = []\n",
    "    range2 = []\n",
    "    total_count = 0\n",
    "    \n",
    "    for line in data:\n",
    "        \n",
    "        new_line = line.strip().split(',')\n",
    "        new_line_split = [new_line[0].split('-'), new_line[1].split('-')]\n",
    "\n",
    "        for i in range(int(new_line_split[0][0]),int(new_line_split[0][1])+1):   \n",
    "            range1.append(i)\n",
    "     \n",
    "        for i in range(int(new_line_split[1][0]),int(new_line_split[1][1])+1):   \n",
    "            range2.append(i)\n",
    "         \n",
    "        #find overlapping elements\n",
    "        common_numbers = set(range1) & set(range2)       \n",
    "                \n",
    "        if len(common_numbers) > 0:\n",
    "            total_count += 1\n",
    "            \n",
    "        range1 = []\n",
    "        range2 = []\n",
    "        \n",
    "    print(total_count)"
   ]
  }
 ],
 "metadata": {
  "kernelspec": {
   "display_name": "Python 3 (ipykernel)",
   "language": "python",
   "name": "python3"
  },
  "language_info": {
   "codemirror_mode": {
    "name": "ipython",
    "version": 3
   },
   "file_extension": ".py",
   "mimetype": "text/x-python",
   "name": "python",
   "nbconvert_exporter": "python",
   "pygments_lexer": "ipython3",
   "version": "3.9.12"
  }
 },
 "nbformat": 4,
 "nbformat_minor": 5
}
