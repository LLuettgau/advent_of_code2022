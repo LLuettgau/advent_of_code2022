{
 "cells": [
  {
   "cell_type": "markdown",
   "id": "1301cbce",
   "metadata": {},
   "source": [
    "**AoC2022 - Day 1**"
   ]
  },
  {
   "cell_type": "code",
   "execution_count": 32,
   "id": "508b6836",
   "metadata": {},
   "outputs": [],
   "source": [
    "#AoC2022 - Day 1\n",
    "\n",
    "#part 1: sum of calories for elf with most calories\n",
    "#part 2: sum of calories of the three elves with most calories\n",
    "\n",
    "def find_highest_cal(fname,part):\n",
    "    with open(fname) as f:\n",
    "        data = f.read().splitlines()\n",
    "    \n",
    "    cal_per_elf: list[int] = []\n",
    "    current_cal = 0\n",
    "\n",
    "    for value in data:\n",
    "        if value:\n",
    "           current_cal += int(value)\n",
    "        else:\n",
    "            cal_per_elf.append(current_cal)\n",
    "            current_cal = 0\n",
    "    if part == 1:\n",
    "        print(max(cal_per_elf))\n",
    "    else:\n",
    "        cal_per_elf.sort(reverse=True)\n",
    "        print(sum(cal_per_elf[:3]))              "
   ]
  },
  {
   "cell_type": "code",
   "execution_count": 33,
   "id": "8e7a78fb",
   "metadata": {},
   "outputs": [
    {
     "name": "stdout",
     "output_type": "stream",
     "text": [
      "72602\n"
     ]
    }
   ],
   "source": [
    "#execute part 1\n",
    "fname = 'C://Users/lenna/Data_Transfer_HHU_Mac/PostDoc/Advent_of_Code/2022/Day1.txt'\n",
    "find_highest_cal(fname,1)    "
   ]
  },
  {
   "cell_type": "code",
   "execution_count": 34,
   "id": "7e9e673e",
   "metadata": {},
   "outputs": [
    {
     "name": "stdout",
     "output_type": "stream",
     "text": [
      "207410\n"
     ]
    }
   ],
   "source": [
    "#execute part 2\n",
    "fname = 'C://Users/lenna/Data_Transfer_HHU_Mac/PostDoc/Advent_of_Code/2022/Day1.txt'\n",
    "find_highest_cal(fname,2)   "
   ]
  }
 ],
 "metadata": {
  "kernelspec": {
   "display_name": "Python 3 (ipykernel)",
   "language": "python",
   "name": "python3"
  },
  "language_info": {
   "codemirror_mode": {
    "name": "ipython",
    "version": 3
   },
   "file_extension": ".py",
   "mimetype": "text/x-python",
   "name": "python",
   "nbconvert_exporter": "python",
   "pygments_lexer": "ipython3",
   "version": "3.9.12"
  }
 },
 "nbformat": 4,
 "nbformat_minor": 5
}
