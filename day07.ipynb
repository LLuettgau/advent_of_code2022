{
 "cells": [
  {
   "cell_type": "markdown",
   "id": "1301cbce",
   "metadata": {},
   "source": [
    "**AoC2022 - Day 7**"
   ]
  },
  {
   "cell_type": "code",
   "execution_count": 90,
   "id": "10693113-8968-440e-9936-56408b2b0c9b",
   "metadata": {},
   "outputs": [],
   "source": [
    "fname = 'Day7.txt'  \n",
    "\n",
    "def run_delete(part):\n",
    "    with open(fname) as f:\n",
    "        lines = f.read().splitlines()\n",
    "\n",
    "    folder_sizes = {}\n",
    "    folder_path = []\n",
    "\n",
    "    for line in lines:\n",
    "        cmds = line.split()\n",
    "        if cmds[0] == \"$\":\n",
    "            if cmds[1] == \"cd\":\n",
    "                if cmds[2] == \"..\":\n",
    "                    folder_path = folder_path[:-1]\n",
    "                elif cmds[2] == \"/\":\n",
    "                    folder_path = [\"/\"]\n",
    "                else:\n",
    "                    folder_path.append(cmds[2])\n",
    "        else:\n",
    "            if cmds[0] != \"dir\":\n",
    "                current_path = \"\"\n",
    "                for folder in folder_path:\n",
    "                    if current_path != \"/\" and folder != \"/\":\n",
    "                        current_path += \"/\"\n",
    "                    current_path += folder\n",
    "                    folder_sizes[current_path] = folder_sizes.get(current_path, 0) + int(cmds[0])\n",
    "\n",
    "    if part == 1:\n",
    "        # Part 1\n",
    "        print(sum(value for name, value in folder_sizes.items() if value < 100000))\n",
    "    else:\n",
    "        # Part 2\n",
    "        needed_space = 30000000 - (70000000 - folder_sizes.get(\"/\"))\n",
    "        print(min(value for name, value in folder_sizes.items() if value >= needed_space))\n",
    "\n",
    "\n"
   ]
  },
  {
   "cell_type": "code",
   "execution_count": 91,
   "id": "6f18331e-c8aa-4483-b928-d3a631fe638e",
   "metadata": {},
   "outputs": [
    {
     "name": "stdout",
     "output_type": "stream",
     "text": [
      "1667443\n"
     ]
    }
   ],
   "source": [
    "run_delete(1)"
   ]
  },
  {
   "cell_type": "code",
   "execution_count": 92,
   "id": "ef335b20-d751-4512-9843-58de436fe865",
   "metadata": {},
   "outputs": [
    {
     "name": "stdout",
     "output_type": "stream",
     "text": [
      "8998590\n"
     ]
    }
   ],
   "source": [
    "run_delete(2)"
   ]
  },
  {
   "cell_type": "code",
   "execution_count": null,
   "id": "3eb751c2-b701-45a3-998d-cff2e1400079",
   "metadata": {},
   "outputs": [],
   "source": []
  }
 ],
 "metadata": {
  "kernelspec": {
   "display_name": "Python 3 (ipykernel)",
   "language": "python",
   "name": "python3"
  },
  "language_info": {
   "codemirror_mode": {
    "name": "ipython",
    "version": 3
   },
   "file_extension": ".py",
   "mimetype": "text/x-python",
   "name": "python",
   "nbconvert_exporter": "python",
   "pygments_lexer": "ipython3",
   "version": "3.9.12"
  }
 },
 "nbformat": 4,
 "nbformat_minor": 5
}
