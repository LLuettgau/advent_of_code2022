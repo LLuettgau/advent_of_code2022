{
 "cells": [
  {
   "cell_type": "markdown",
   "id": "1301cbce",
   "metadata": {},
   "source": [
    "**AoC2022 - Day 6**"
   ]
  },
  {
   "cell_type": "code",
   "execution_count": null,
   "id": "5f81c6ec-6369-42f6-a1ee-c374d6534112",
   "metadata": {},
   "outputs": [],
   "source": []
  },
  {
   "cell_type": "code",
   "execution_count": 103,
   "id": "508b6836",
   "metadata": {},
   "outputs": [
    {
     "name": "stdout",
     "output_type": "stream",
     "text": [
      "2334\n"
     ]
    }
   ],
   "source": [
    "#part 1: start-of-packet marker in the datastream: sequence of four characters that are all different.\n",
    "#How many characters need to be processed before the first start-of-packet marker is detected?\n",
    "\n",
    "#part 2: sequence of 14 characters that are all different. \n",
    "\n",
    "#go through element by element, keeping count of the current element position, check if repetition in last four characters (use \"set()\")\n",
    "\n",
    "fname = 'Day6.txt'     \n",
    "with open(fname) as f:\n",
    "    all_data = f.read()\n",
    "data = [x for x in all_data]\n",
    "\n",
    "seq_len = 14 #4 if part 1\n",
    "i = seq_len\n",
    "curr_elems = data[:seq_len]\n",
    "\n",
    "while True:\n",
    "    if len(curr_elems) == len(set(curr_elems)):\n",
    "        print(i)\n",
    "        break\n",
    "    else:\n",
    "        curr_elems.pop(0)\n",
    "        curr_elems.append(data[i])\n",
    "        i += 1  "
   ]
  }
 ],
 "metadata": {
  "kernelspec": {
   "display_name": "Python 3 (ipykernel)",
   "language": "python",
   "name": "python3"
  },
  "language_info": {
   "codemirror_mode": {
    "name": "ipython",
    "version": 3
   },
   "file_extension": ".py",
   "mimetype": "text/x-python",
   "name": "python",
   "nbconvert_exporter": "python",
   "pygments_lexer": "ipython3",
   "version": "3.9.12"
  }
 },
 "nbformat": 4,
 "nbformat_minor": 5
}
