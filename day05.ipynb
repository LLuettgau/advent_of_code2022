{
 "cells": [
  {
   "cell_type": "markdown",
   "id": "1301cbce",
   "metadata": {},
   "source": [
    "**AoC2022 - Day 5**"
   ]
  },
  {
   "cell_type": "code",
   "execution_count": null,
   "id": "5f81c6ec-6369-42f6-a1ee-c374d6534112",
   "metadata": {},
   "outputs": [],
   "source": []
  },
  {
   "cell_type": "code",
   "execution_count": 125,
   "id": "508b6836",
   "metadata": {},
   "outputs": [
    {
     "name": "stdout",
     "output_type": "stream",
     "text": [
      "ZBDRNPMVH\n",
      "WDLPFNNNB\n"
     ]
    }
   ],
   "source": [
    "#part 1: After the rearrangement procedure completes, what crate ends up on top of each stack?\n",
    "#part 2: After the rearrangement procedure completes, what crate ends up on top of each stack?\n",
    "\n",
    "fname = 'Day5.txt'     \n",
    "with open(fname) as f:\n",
    "    lines = f.readlines()\n",
    "\n",
    "def load_data(lines):\n",
    "    positions = {i_bin+1: [c for l in lines if '[' in l and (c := l[i_bin*4+1]) != ' '][::-1] for i_bin in range(len(lines[0])//4)}\n",
    "    moves = [[int(l.strip().split(' ')[i]) for i in (1,3,5)] for l in lines if l[0] == 'm'] \n",
    "    return positions, moves\n",
    "\n",
    "(pos1, movs), (pos2, _) = load_data(lines), load_data(lines)\n",
    "for n, f, t in inst:\n",
    "    pos1[t].extend([pos1[f].pop() for i in range(n)])\n",
    "    pos2[t].extend([pos2[f].pop(i) for i in range(-n,0)])\n",
    "        \n",
    "for i, pos in enumerate((pos1, pos2)):\n",
    "    print(''.join(pos[i+1].pop() for i in range(len(d))))\n"
   ]
  },
  {
   "cell_type": "code",
   "execution_count": null,
   "id": "7b522624",
   "metadata": {},
   "outputs": [],
   "source": []
  }
 ],
 "metadata": {
  "kernelspec": {
   "display_name": "Python 3 (ipykernel)",
   "language": "python",
   "name": "python3"
  },
  "language_info": {
   "codemirror_mode": {
    "name": "ipython",
    "version": 3
   },
   "file_extension": ".py",
   "mimetype": "text/x-python",
   "name": "python",
   "nbconvert_exporter": "python",
   "pygments_lexer": "ipython3",
   "version": "3.9.12"
  }
 },
 "nbformat": 4,
 "nbformat_minor": 5
}
